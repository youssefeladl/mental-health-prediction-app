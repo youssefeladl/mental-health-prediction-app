{
  "nbformat": 4,
  "nbformat_minor": 0,
  "metadata": {
    "colab": {
      "provenance": [],
      "private_outputs": true
    },
    "kernelspec": {
      "name": "python3",
      "display_name": "Python 3"
    },
    "language_info": {
      "name": "python"
    }
  },
  "cells": [
    {
      "cell_type": "code",
      "execution_count": null,
      "metadata": {
        "id": "tMm421O6CbHL"
      },
      "outputs": [],
      "source": [
        "import numpy as np\n",
        "import pandas as pd\n",
        "import matplotlib.pyplot as plt\n",
        "import seaborn as sns\n",
        "import plotly.express as px\n",
        "from sklearn.model_selection import train_test_split\n",
        "from sklearn.model_selection import GridSearchCV\n",
        "from sklearn.model_selection import cross_val_score\n",
        "from sklearn.neighbors import KNeighborsClassifier\n",
        "from sklearn.feature_selection import SelectKBest, f_classif\n",
        "from sklearn.linear_model import LogisticRegression\n",
        "from sklearn.ensemble import RandomForestClassifier\n",
        "from sklearn.svm import SVC\n",
        "from sklearn.preprocessing import LabelEncoder\n",
        "from sklearn.metrics import accuracy_score\n",
        "from sklearn.metrics import confusion_matrix\n",
        "from sklearn.metrics import classification_report\n",
        "from sklearn.metrics import roc_curve\n",
        "from sklearn.metrics import roc_auc_score\n",
        "from sklearn.preprocessing import StandardScaler\n",
        "import warnings\n",
        "warnings.filterwarnings('ignore')"
      ]
    },
    {
      "cell_type": "code",
      "source": [
        "df = pd.read_csv(\"/content/Student Depression Dataset.csv\")"
      ],
      "metadata": {
        "id": "enaQ2QiMENG2"
      },
      "execution_count": null,
      "outputs": []
    },
    {
      "cell_type": "markdown",
      "source": [
        "## DATA EXPLORATION"
      ],
      "metadata": {
        "id": "LjAPXAZhEhtD"
      }
    },
    {
      "cell_type": "code",
      "source": [
        "df.head(8)"
      ],
      "metadata": {
        "id": "sl-PKf5rEOUG"
      },
      "execution_count": null,
      "outputs": []
    },
    {
      "cell_type": "code",
      "source": [
        "df.tail(8)"
      ],
      "metadata": {
        "id": "TcZvBNTkEOWc"
      },
      "execution_count": null,
      "outputs": []
    },
    {
      "cell_type": "code",
      "source": [
        "df.info()"
      ],
      "metadata": {
        "id": "pebG_UXuEOZK"
      },
      "execution_count": null,
      "outputs": []
    },
    {
      "cell_type": "code",
      "source": [
        "df.shape"
      ],
      "metadata": {
        "id": "YSNV8WMJc8fR"
      },
      "execution_count": null,
      "outputs": []
    },
    {
      "cell_type": "code",
      "source": [
        "df.describe().round(2)"
      ],
      "metadata": {
        "id": "0HI_ImoREOb8"
      },
      "execution_count": null,
      "outputs": []
    },
    {
      "cell_type": "code",
      "source": [
        "plt.figure(figsize=(12,5))\n",
        "sns.heatmap(df.describe().round(2),annot=True)\n",
        "plt.show()"
      ],
      "metadata": {
        "id": "aJE4mcBZEOeU"
      },
      "execution_count": null,
      "outputs": []
    },
    {
      "cell_type": "markdown",
      "source": [
        "# DATA PREPROCESSING"
      ],
      "metadata": {
        "id": "TLvxd0Q2dgDt"
      }
    },
    {
      "cell_type": "code",
      "source": [
        "df.isnull().sum()"
      ],
      "metadata": {
        "id": "2JV_3hXvEOg2"
      },
      "execution_count": null,
      "outputs": []
    },
    {
      "cell_type": "code",
      "source": [
        "df['Financial Stress'].unique()"
      ],
      "metadata": {
        "id": "3i2d974FEOjg"
      },
      "execution_count": null,
      "outputs": []
    },
    {
      "cell_type": "code",
      "source": [
        "df['Financial Stress']=df['Financial Stress'].fillna(df['Financial Stress'].mean())"
      ],
      "metadata": {
        "id": "jTfDFtpkEOm3"
      },
      "execution_count": null,
      "outputs": []
    },
    {
      "cell_type": "code",
      "source": [
        "df.duplicated().sum()"
      ],
      "metadata": {
        "id": "UJddasuMGFBZ"
      },
      "execution_count": null,
      "outputs": []
    },
    {
      "cell_type": "code",
      "source": [
        "df.isna().sum()"
      ],
      "metadata": {
        "id": "jdWiW8rKJmYT"
      },
      "execution_count": null,
      "outputs": []
    },
    {
      "cell_type": "code",
      "source": [
        "df.drop(columns=['id'],inplace=True)"
      ],
      "metadata": {
        "id": "RJI5JhJYdWdz"
      },
      "execution_count": null,
      "outputs": []
    },
    {
      "cell_type": "code",
      "source": [
        "df['Work Pressure'].unique()"
      ],
      "metadata": {
        "id": "oQv38YX9eR1_"
      },
      "execution_count": null,
      "outputs": []
    },
    {
      "cell_type": "code",
      "source": [
        "df['Work Pressure'].value_counts()"
      ],
      "metadata": {
        "id": "yirqeY1Ud_Jg"
      },
      "execution_count": null,
      "outputs": []
    },
    {
      "cell_type": "code",
      "source": [
        "df.drop(columns=['Work Pressure'],inplace=True)"
      ],
      "metadata": {
        "id": "ue2jVYSHeYK3"
      },
      "execution_count": null,
      "outputs": []
    },
    {
      "cell_type": "code",
      "source": [
        "df['Job Satisfaction'].value_counts()"
      ],
      "metadata": {
        "id": "203ndhzLekwX"
      },
      "execution_count": null,
      "outputs": []
    },
    {
      "cell_type": "code",
      "source": [
        "df.drop(columns=['Job Satisfaction'],inplace=True)"
      ],
      "metadata": {
        "id": "c-0ymH0Leu3f"
      },
      "execution_count": null,
      "outputs": []
    },
    {
      "cell_type": "code",
      "source": [
        "df['Profession'].value_counts()"
      ],
      "metadata": {
        "id": "W0Vp_LfCv8ci"
      },
      "execution_count": null,
      "outputs": []
    },
    {
      "cell_type": "code",
      "source": [
        "df.drop(columns=['Profession'],inplace=True)"
      ],
      "metadata": {
        "id": "aGIIOEF-wAhN"
      },
      "execution_count": null,
      "outputs": []
    },
    {
      "cell_type": "code",
      "source": [
        "df.rename(columns={'Depression Score':'Depression_Score','Academic Pressure':'Academic_Pressure','Study Satisfaction':'Study_Satisfaction','Sleep Duration':'Sleep_Duration','Dietary Habits':'Dietary_Habits','Have you ever had suicidal thoughts ?':'Have_you_ever_had_suicidal_thoughts_?','Work/Study Hours':'Work/Study_Hours','Financial_Stress':'Financial Stress','Family History of Mental Illness':'Family_History_of_Mental_Illness'},inplace=True)"
      ],
      "metadata": {
        "id": "UAQayRtXe16e"
      },
      "execution_count": null,
      "outputs": []
    },
    {
      "cell_type": "code",
      "source": [
        "df.head(10)"
      ],
      "metadata": {
        "id": "5A_5eSxUdsNh"
      },
      "execution_count": null,
      "outputs": []
    },
    {
      "cell_type": "code",
      "source": [
        "plt.figure(figsize=(10,5))\n",
        "sns.boxplot(df)\n",
        "plt.xticks(rotation=45, ha='right') # Rotate x-axis labels for better readability\n",
        "plt.show()"
      ],
      "metadata": {
        "id": "LahGJNxghnRv"
      },
      "execution_count": null,
      "outputs": []
    },
    {
      "cell_type": "code",
      "source": [
        "df[df['CGPA']==0]"
      ],
      "metadata": {
        "id": "neXJcmnmhnOZ"
      },
      "execution_count": null,
      "outputs": []
    },
    {
      "cell_type": "code",
      "source": [
        "def remove_outliers_iqr(df, columns):\n",
        "    clean_df = df.copy()\n",
        "    for col in columns:\n",
        "        Q1 = clean_df[col].quantile(0.25)\n",
        "        Q3 = clean_df[col].quantile(0.75)\n",
        "        IQR = Q3 - Q1\n",
        "        lower_bound = Q1 - 1.5 * IQR\n",
        "        upper_bound = Q3 + 1.5 * IQR\n",
        "        # نحافظ بس على القيم اللي جوه الحدود\n",
        "        clean_df = clean_df[(clean_df[col] >= lower_bound) & (clean_df[col] <= upper_bound)]\n",
        "    return clean_df"
      ],
      "metadata": {
        "id": "JUvbZix1j8_Q"
      },
      "execution_count": null,
      "outputs": []
    },
    {
      "cell_type": "code",
      "source": [
        "filtered_df = remove_outliers_iqr(df, [\"Age\",\"CGPA\"])"
      ],
      "metadata": {
        "id": "7Gw1CzxDlLSv"
      },
      "execution_count": null,
      "outputs": []
    },
    {
      "cell_type": "code",
      "source": [
        "df.shape"
      ],
      "metadata": {
        "id": "eCc_PtBNmkq1"
      },
      "execution_count": null,
      "outputs": []
    },
    {
      "cell_type": "code",
      "source": [
        "plt.figure(figsize=(11,5))\n",
        "sns.boxplot(filtered_df)\n",
        "plt.xticks(rotation=45, ha='right') # Rotate x-axis labels for better readability\n",
        "plt.show()"
      ],
      "metadata": {
        "id": "-nrF5srXmto0"
      },
      "execution_count": null,
      "outputs": []
    },
    {
      "cell_type": "code",
      "source": [
        "filtered_df.shape"
      ],
      "metadata": {
        "id": "SL5WpKwhmJrn"
      },
      "execution_count": null,
      "outputs": []
    },
    {
      "cell_type": "markdown",
      "source": [
        "# EDA"
      ],
      "metadata": {
        "id": "oqr7YM7rgrCY"
      }
    },
    {
      "cell_type": "code",
      "source": [
        "plt.figure(figsize=(15,7))\n",
        "sns.displot(filtered_df['Depression'],kde=True,color='red')\n",
        "plt.show()"
      ],
      "metadata": {
        "id": "rnZ2b7IbdsKK"
      },
      "execution_count": null,
      "outputs": []
    },
    {
      "cell_type": "code",
      "source": [
        "plt.figure(figsize=(10,5))\n",
        "sns.histplot(filtered_df['Age'],kde=True,color='green')"
      ],
      "metadata": {
        "id": "t9Pjg9bNdsHl"
      },
      "execution_count": null,
      "outputs": []
    },
    {
      "cell_type": "code",
      "source": [
        "plt.figure(figsize=(10,5))\n",
        "sns.lineplot(data=filtered_df,x='Age',y='Depression',color='red',marker='o',markersize=5,markeredgecolor='black')"
      ],
      "metadata": {
        "id": "tUf0Pfvko4DJ"
      },
      "execution_count": null,
      "outputs": []
    },
    {
      "cell_type": "code",
      "source": [
        "plt.figure(figsize=(10,5))\n",
        "sns.countplot(data=filtered_df,x='Gender',hue='Depression')"
      ],
      "metadata": {
        "id": "1QsNvuHWq1Bt"
      },
      "execution_count": null,
      "outputs": []
    },
    {
      "cell_type": "code",
      "source": [
        "plt.figure(figsize=(10,5))\n",
        "sns.catplot(data=filtered_df,x='Gender',y='Depression',kind='bar',color='red',palette='rocket',hue='Dietary_Habits')"
      ],
      "metadata": {
        "id": "hEHtXq4Ydr-p"
      },
      "execution_count": null,
      "outputs": []
    },
    {
      "cell_type": "code",
      "source": [
        "plt.figure(figsize=(12,7))\n",
        "sns.lineplot(data=filtered_df,x='CGPA',y='Depression',color='red',marker='o',markeredgecolor='black')"
      ],
      "metadata": {
        "id": "TEcblrdLr2tV"
      },
      "execution_count": null,
      "outputs": []
    },
    {
      "cell_type": "code",
      "source": [
        "plt.figure(figsize=(11,6))\n",
        "sns.lineplot(data=filtered_df,x='Work/Study_Hours',y='Depression',color='red',marker='o',markeredgecolor='black')"
      ],
      "metadata": {
        "id": "Cm03xz_psikF"
      },
      "execution_count": null,
      "outputs": []
    },
    {
      "cell_type": "code",
      "source": [
        "plt.figure(figsize=(11,6))\n",
        "sns.lineplot(data=filtered_df,x='Academic_Pressure',y='Depression',color='red',marker='o',markeredgecolor='black')"
      ],
      "metadata": {
        "id": "9sOOYrn9s_Ek"
      },
      "execution_count": null,
      "outputs": []
    },
    {
      "cell_type": "code",
      "source": [
        "plt.figure(figsize=(11,6))\n",
        "sns.lineplot(data=filtered_df,x='Financial Stress',y='Depression',color='red',marker='o',markeredgecolor='black')\n",
        "#"
      ],
      "metadata": {
        "id": "bChQFt0htiEh"
      },
      "execution_count": null,
      "outputs": []
    },
    {
      "cell_type": "code",
      "source": [
        "plt.figure(figsize=(10,6))\n",
        "sns.histplot(data=filtered_df,x='City',hue='Depression',multiple='stack',palette='rocket',shrink=.8,edgecolor='black',linewidth=1)\n",
        "plt.xticks(rotation=90)"
      ],
      "metadata": {
        "id": "FyRhHoSut7ZZ"
      },
      "execution_count": null,
      "outputs": []
    },
    {
      "cell_type": "code",
      "source": [
        "plt.figure(figsize=(10,6))\n",
        "sns.catplot(data=filtered_df,x='Family_History_of_Mental_Illness',y='Depression',kind='bar',color='red',palette='rocket')"
      ],
      "metadata": {
        "id": "PeTJiLEWvfGK"
      },
      "execution_count": null,
      "outputs": []
    },
    {
      "cell_type": "code",
      "source": [
        "plt.figure(figsize=(15,7))\n",
        "sns.catplot(data=filtered_df,x='Sleep_Duration',y='Depression',kind='bar',color='red',palette='rocket',hue='Gender')\n",
        "plt.xticks(rotation=90)"
      ],
      "metadata": {
        "id": "Ac14GU_Svth7"
      },
      "execution_count": null,
      "outputs": []
    },
    {
      "cell_type": "markdown",
      "source": [
        "# FEATURE ENGENERING"
      ],
      "metadata": {
        "id": "lxvc731FxdgE"
      }
    },
    {
      "cell_type": "code",
      "source": [
        "ln=LabelEncoder()"
      ],
      "metadata": {
        "id": "S0I4tMaUJmdQ"
      },
      "execution_count": null,
      "outputs": []
    },
    {
      "cell_type": "code",
      "source": [
        "filtered_df.drop(columns=['Degree','City'],inplace=True)"
      ],
      "metadata": {
        "id": "nM01irY4yiRl"
      },
      "execution_count": null,
      "outputs": []
    },
    {
      "cell_type": "code",
      "source": [
        "filtered_df.head(3)"
      ],
      "metadata": {
        "id": "Gr_GcfzNythy"
      },
      "execution_count": null,
      "outputs": []
    },
    {
      "cell_type": "code",
      "source": [
        "filtered_df['Gender']=ln.fit_transform(filtered_df['Gender'])\n",
        "filtered_df['Dietary_Habits']=ln.fit_transform(filtered_df['Dietary_Habits'])\n",
        "filtered_df['Family_History_of_Mental_Illness']=ln.fit_transform(filtered_df['Family_History_of_Mental_Illness'])\n",
        "filtered_df['Have_you_ever_had_suicidal_thoughts_?']=ln.fit_transform(filtered_df['Have_you_ever_had_suicidal_thoughts_?'])\n",
        "filtered_df['Sleep_Duration']=filtered_df['Sleep_Duration'].map({'Less than 5 hours':0,'5-6 hours':1,'7-8 hours':2,'More than 8 hours':3,'Others':4})"
      ],
      "metadata": {
        "id": "ALmsHPRsJmfG"
      },
      "execution_count": null,
      "outputs": []
    },
    {
      "cell_type": "code",
      "source": [
        "plt.figure(figsize=(8,10))\n",
        "sns.heatmap(filtered_df.corr(),annot=True,cmap='rocket',linewidths=1,linecolor='black',fmt='.2f')\n",
        "plt.show()"
      ],
      "metadata": {
        "id": "ScVvxV0e7U5C"
      },
      "execution_count": null,
      "outputs": []
    },
    {
      "cell_type": "code",
      "source": [
        "x=filtered_df.drop(columns=['Depression'])\n",
        "y=filtered_df['Depression']\n",
        "# X: الميزات، y: الهدف\n",
        "selector = SelectKBest(score_func=f_classif, k='all')  # أو حدد k=5 لو عايز بس أعلى 5\n",
        "fit = selector.fit(x,y)\n",
        "# نتائج التقييم\n",
        "feature_scores = pd.DataFrame({\n",
        "    'Feature': x.columns,\n",
        "    'Score': fit.scores_\n",
        "}).sort_values(by='Score', ascending=False)\n",
        "print(feature_scores)"
      ],
      "metadata": {
        "id": "smcCuCN9JvJS"
      },
      "execution_count": null,
      "outputs": []
    },
    {
      "cell_type": "code",
      "source": [
        "filtered_df.head(3)"
      ],
      "metadata": {
        "id": "3Ls6Ub_CzaYk"
      },
      "execution_count": null,
      "outputs": []
    },
    {
      "cell_type": "code",
      "source": [
        "sc=StandardScaler()"
      ],
      "metadata": {
        "id": "7-igCV-gJml9"
      },
      "execution_count": null,
      "outputs": []
    },
    {
      "cell_type": "code",
      "source": [
        "filtered_df['Age']=sc.fit_transform(filtered_df[['Age']])\n",
        "filtered_df['CGPA']=sc.fit_transform(filtered_df[['CGPA']])\n",
        "filtered_df['Work/Study_Hours']=sc.fit_transform(filtered_df[['Work/Study_Hours']])\n",
        "filtered_df['Academic_Pressure']=sc.fit_transform(filtered_df[['Academic_Pressure']])\n",
        "filtered_df['Financial Stress']=sc.fit_transform(filtered_df[['Financial Stress']])\n",
        "filtered_df['Study_Satisfaction']=sc.fit_transform(filtered_df[['Study_Satisfaction']])"
      ],
      "metadata": {
        "id": "xUebQ-DtJmoe"
      },
      "execution_count": null,
      "outputs": []
    },
    {
      "cell_type": "code",
      "source": [
        "filtered_df.head(3)"
      ],
      "metadata": {
        "id": "jnYIGnlUJmq3"
      },
      "execution_count": null,
      "outputs": []
    },
    {
      "cell_type": "markdown",
      "source": [
        "# MODELING"
      ],
      "metadata": {
        "id": "QhLc82ev2Vn8"
      }
    },
    {
      "cell_type": "code",
      "source": [
        "x=filtered_df.drop(columns=['Depression'])\n",
        "y=filtered_df['Depression']"
      ],
      "metadata": {
        "id": "sAdg_oA-GQUy"
      },
      "execution_count": null,
      "outputs": []
    },
    {
      "cell_type": "code",
      "source": [
        "lr=LogisticRegression()\n",
        "svm=SVC(C=10,kernel='linear')\n",
        "kn=KNeighborsClassifier(n_neighbors=1)"
      ],
      "metadata": {
        "id": "Qgj8pDP2JmuO"
      },
      "execution_count": null,
      "outputs": []
    },
    {
      "cell_type": "code",
      "source": [
        "x_train,x_test,y_train,y_test=train_test_split(x,y,test_size=0.2,random_state=42)"
      ],
      "metadata": {
        "id": "jAoJTQm5ulM6"
      },
      "execution_count": null,
      "outputs": []
    },
    {
      "cell_type": "code",
      "source": [
        "lr.fit(x_train,y_train)\n",
        "svm.fit(x_train,y_train)"
      ],
      "metadata": {
        "id": "uP8ph6roNJGE"
      },
      "execution_count": null,
      "outputs": []
    },
    {
      "cell_type": "code",
      "source": [
        "accuracy_score(y_test,lr.predict(x_test))"
      ],
      "metadata": {
        "id": "PQonzkS0JI23"
      },
      "execution_count": null,
      "outputs": []
    },
    {
      "cell_type": "code",
      "source": [
        "accuracy_score(y_test,svm.predict(x_test))"
      ],
      "metadata": {
        "id": "zx3V27-OJIqZ"
      },
      "execution_count": null,
      "outputs": []
    },
    {
      "cell_type": "code",
      "source": [
        "x_new = filtered_df.drop(columns=['Depression','Family_History_of_Mental_Illness','Gender','CGPA'])\n",
        "x_train,x_test,y_train,y_test=train_test_split(x_new,y,test_size=0.2,random_state=42)"
      ],
      "metadata": {
        "id": "NC6n317hx1bg"
      },
      "execution_count": null,
      "outputs": []
    },
    {
      "cell_type": "code",
      "source": [
        "lr.fit(x_train,y_train)\n",
        "svm.fit(x_train,y_train)"
      ],
      "metadata": {
        "id": "CfL46NkaJ5eJ"
      },
      "execution_count": null,
      "outputs": []
    },
    {
      "cell_type": "code",
      "source": [
        "accuracy_score(y_test,lr.predict(x_test))"
      ],
      "metadata": {
        "id": "uG7WMyxGJQEx"
      },
      "execution_count": null,
      "outputs": []
    },
    {
      "cell_type": "code",
      "source": [
        "accuracy_score(y_test,svm.predict(x_test))"
      ],
      "metadata": {
        "id": "heGozATqJP2t"
      },
      "execution_count": null,
      "outputs": []
    },
    {
      "cell_type": "code",
      "source": [
        "from sklearn.model_selection import cross_val_score\n",
        "scores = cross_val_score(lr, x, y, cv=5, scoring='accuracy')\n",
        "print(scores)"
      ],
      "metadata": {
        "id": "SfhtplORHPGX"
      },
      "execution_count": null,
      "outputs": []
    },
    {
      "cell_type": "code",
      "source": [
        "from sklearn.model_selection import cross_val_score\n",
        "scores = cross_val_score(svm, x, y, cv=5, scoring='accuracy')\n",
        "print(scores)"
      ],
      "metadata": {
        "id": "hH9GARrgODGQ"
      },
      "execution_count": null,
      "outputs": []
    },
    {
      "cell_type": "code",
      "source": [
        "from sklearn.metrics import classification_report\n",
        "print(classification_report(y_test, lr.predict(x_test)))"
      ],
      "metadata": {
        "id": "X65oP1y3ELwt"
      },
      "execution_count": null,
      "outputs": []
    },
    {
      "cell_type": "code",
      "source": [
        "from sklearn.metrics import classification_report\n",
        "print(classification_report(y_test, svm.predict(x_test)))"
      ],
      "metadata": {
        "id": "ogwmUU3aHPOt"
      },
      "execution_count": null,
      "outputs": []
    },
    {
      "cell_type": "code",
      "source": [
        "from sklearn.metrics import confusion_matrix\n",
        "y_pred = lr.predict(x_test)\n",
        "cm = confusion_matrix(y_test, y_pred)\n",
        "plt.matshow(cm, cmap='Blues')\n",
        "plt.title(\"Confusion Matrix\")\n",
        "plt.colorbar()\n",
        "plt.xlabel('Predicted')\n",
        "plt.ylabel('Actual')\n",
        "for (i, j), val in np.ndenumerate(cm):\n",
        "    plt.text(j, i, val, ha='center', va='center', color='black')\n",
        "plt.show()"
      ],
      "metadata": {
        "id": "FadXKG0kHPUi"
      },
      "execution_count": null,
      "outputs": []
    },
    {
      "cell_type": "code",
      "source": [
        "from sklearn.metrics import roc_curve, auc\n",
        "y_probs = lr.predict_proba(x_test)[:, 1]\n",
        "fpr, tpr, _ = roc_curve(y_test, y_probs)\n",
        "roc_auc = auc(fpr, tpr)\n",
        "plt.figure()\n",
        "plt.plot(fpr, tpr, color='darkorange', lw=2, label='ROC curve (area = %0.2f)' % roc_auc)\n",
        "plt.plot([0, 1], [0, 1], color='navy', lw=2, linestyle='--')\n",
        "plt.xlim([0.0, 1.0])\n",
        "plt.ylim([0.0, 1.05])\n",
        "plt.xlabel('False Positive Rate')\n",
        "plt.ylabel('True Positive Rate')\n",
        "plt.title('Receiver Operating Characteristic (ROC) Curve')\n",
        "plt.legend(loc='lower right')\n",
        "plt.show()"
      ],
      "metadata": {
        "id": "qRe9nB2JHPXJ"
      },
      "execution_count": null,
      "outputs": []
    },
    {
      "cell_type": "code",
      "source": [
        "from sklearn.metrics import precision_recall_curve\n",
        "y_probs = lr.predict_proba(x_test)[:, 1]\n",
        "precision, recall, _ = precision_recall_curve(y_test, y_probs)\n",
        "plt.plot(recall, precision, color='blue')\n",
        "plt.xlabel('Recall')\n",
        "plt.ylabel('Precision')\n",
        "plt.title('Precision-Recall Curve')\n",
        "plt.show()"
      ],
      "metadata": {
        "id": "McHiAPVwHPZ0"
      },
      "execution_count": null,
      "outputs": []
    },
    {
      "cell_type": "code",
      "source": [
        "import joblib # Import the joblib library\n",
        "joblib.dump(lr, \"logreg_model.pkl\")\n",
        "joblib.dump(svm, \"svm_model.pkl\")"
      ],
      "metadata": {
        "id": "9CqDpHhNHPdK"
      },
      "execution_count": null,
      "outputs": []
    },
    {
      "cell_type": "code",
      "source": [
        "filtered_df.to_csv('preprocessed_data.csv', index=False)"
      ],
      "metadata": {
        "id": "UOxusvhpGQjG"
      },
      "execution_count": null,
      "outputs": []
    },
    {
      "cell_type": "code",
      "source": [],
      "metadata": {
        "id": "WBrY8uW22WvU"
      },
      "execution_count": null,
      "outputs": []
    }
  ]
}